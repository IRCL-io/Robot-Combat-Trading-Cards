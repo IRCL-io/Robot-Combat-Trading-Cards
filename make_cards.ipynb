{
 "cells": [
  {
   "cell_type": "markdown",
   "metadata": {},
   "source": [
    "# Robot Combat Trading Cards\n"
   ]
  },
  {
   "cell_type": "code",
   "execution_count": null,
   "metadata": {},
   "outputs": [],
   "source": [
    "# blab\n"
   ]
  },
  {
   "cell_type": "code",
   "execution_count": 8,
   "metadata": {},
   "outputs": [
    {
     "name": "stdout",
     "output_type": "stream",
     "text": [
      "here's one\n"
     ]
    },
    {
     "ename": "TypeError",
     "evalue": "can only concatenate str (not \"int\") to str",
     "output_type": "error",
     "traceback": [
      "\u001b[1;31m---------------------------------------------------------------------------\u001b[0m",
      "\u001b[1;31mTypeError\u001b[0m                                 Traceback (most recent call last)",
      "Cell \u001b[1;32mIn[8], line 26\u001b[0m\n\u001b[0;32m     23\u001b[0m robot \u001b[38;5;241m=\u001b[39m {}\n\u001b[0;32m     25\u001b[0m \u001b[38;5;66;03m# Get robot's name (use a simpler CSS selector or tag-based search)\u001b[39;00m\n\u001b[1;32m---> 26\u001b[0m robot_name_tag \u001b[38;5;241m=\u001b[39m entry\u001b[38;5;241m.\u001b[39mselect_one(\u001b[38;5;124;43m'\u001b[39;49m\u001b[38;5;124;43mtd:nth-child(\u001b[39;49m\u001b[38;5;124;43m'\u001b[39;49m\u001b[43m \u001b[49m\u001b[38;5;241;43m+\u001b[39;49m\u001b[43m \u001b[49m\u001b[43mindex_number\u001b[49m \u001b[38;5;241m+\u001b[39m \u001b[38;5;124m'\u001b[39m\u001b[38;5;124m) > a\u001b[39m\u001b[38;5;124m'\u001b[39m)  \u001b[38;5;66;03m# Adjust this to fit the actual structure\u001b[39;00m\n\u001b[0;32m     27\u001b[0m \u001b[38;5;28;01mif\u001b[39;00m robot_name_tag:\n\u001b[0;32m     28\u001b[0m     robot[\u001b[38;5;124m'\u001b[39m\u001b[38;5;124mname\u001b[39m\u001b[38;5;124m'\u001b[39m] \u001b[38;5;241m=\u001b[39m robot_name_tag\u001b[38;5;241m.\u001b[39mtext\u001b[38;5;241m.\u001b[39mstrip()\n",
      "\u001b[1;31mTypeError\u001b[0m: can only concatenate str (not \"int\") to str"
     ]
    }
   ],
   "source": [
    "import requests\n",
    "from bs4 import BeautifulSoup\n",
    "import json\n",
    "\n",
    "# URL of the page\n",
    "url = \"https://www.robotcombatevents.com/events/1346/competitions/2226\"\n",
    "\n",
    "# Send a GET request to the page\n",
    "response = requests.get(url)\n",
    "soup = BeautifulSoup(response.content, 'html.parser')\n",
    "\n",
    "# Define an empty list to store robot data\n",
    "robots = []\n",
    "\n",
    "# Example scraping logic (you need to adjust the selectors based on the page's structure)\n",
    "robot_entries = soup.find_all('div', class_='registrations-panel grunge-box')  # Modify this to fit actual page structure\n",
    "\n",
    "index_number = 0  # Start from 0\n",
    "for entry in robot_entries:\n",
    "    index_number += 1\n",
    "    print(\"Processing robot entry #\", index_number)\n",
    "    \n",
    "    robot = {}\n",
    "    \n",
    "    # Get robot's name (use a static selector for the robot name)\n",
    "    robot_name_tag = entry.select_one('td:nth-child(2) > a')  # Adjust this to fit the actual structure\n",
    "    if robot_name_tag:\n",
    "        robot['name'] = robot_name_tag.text.strip()\n",
    "        print(\"Robot Name:\", robot['name'])\n",
    "    \n",
    "    # Get image URL\n",
    "    image_tag = entry.find('img')\n",
    "    robot['image_url'] = image_tag['src'] if image_tag else None\n",
    "    \n",
    "    # Get additional information\n",
    "    additional_info_tag = entry.find('p', class_='robot-info')  # Modify to actual class\n",
    "    robot['info'] = additional_info_tag.text.strip() if additional_info_tag else \"No info\"\n",
    "    \n",
    "    # Add robot data to the list\n",
    "    robots.append(robot)\n",
    "\n",
    "# At this point, `robots` will contain all the extracted robot data\n",
    "\n",
    "# Save the data to a JSON file\n",
    "with open('robots.json', 'w') as json_file:\n",
    "    json.dump(robots, json_file, indent=4)\n",
    "\n",
    "print(\"Robot data saved to robots.json.\")\n"
   ]
  }
 ],
 "metadata": {
  "kernelspec": {
   "display_name": "Python 3",
   "language": "python",
   "name": "python3"
  },
  "language_info": {
   "codemirror_mode": {
    "name": "ipython",
    "version": 3
   },
   "file_extension": ".py",
   "mimetype": "text/x-python",
   "name": "python",
   "nbconvert_exporter": "python",
   "pygments_lexer": "ipython3",
   "version": "3.10.11"
  }
 },
 "nbformat": 4,
 "nbformat_minor": 2
}
