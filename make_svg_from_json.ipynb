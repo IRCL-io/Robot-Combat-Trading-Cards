{
 "cells": [
  {
   "cell_type": "markdown",
   "metadata": {},
   "source": [
    "make svg from json"
   ]
  },
  {
   "cell_type": "code",
   "execution_count": null,
   "metadata": {},
   "outputs": [
    {
     "ename": "FileNotFoundError",
     "evalue": "[Errno 2] No such file or directory: 'Antmageddon {{Weight_class}}s.json'",
     "output_type": "error",
     "traceback": [
      "\u001b[1;31m---------------------------------------------------------------------------\u001b[0m",
      "\u001b[1;31mFileNotFoundError\u001b[0m                         Traceback (most recent call last)",
      "Cell \u001b[1;32mIn[2], line 8\u001b[0m\n\u001b[0;32m      5\u001b[0m Weight_class \u001b[38;5;241m=\u001b[39m \u001b[38;5;124m\"\u001b[39m\u001b[38;5;124mant\u001b[39m\u001b[38;5;124m\"\u001b[39m\n\u001b[0;32m      6\u001b[0m File_name \u001b[38;5;241m=\u001b[39m \u001b[38;5;124m\"\u001b[39m\u001b[38;5;124mAntmageddon \u001b[39m\u001b[38;5;124m{{\u001b[39m\u001b[38;5;124mWeight_class}}s.json\u001b[39m\u001b[38;5;124m\"\u001b[39m\n\u001b[1;32m----> 8\u001b[0m \u001b[43msvg_bots\u001b[49m\u001b[38;5;241;43m.\u001b[39;49m\u001b[43muse_params\u001b[49m\u001b[43m(\u001b[49m\u001b[43mFile_name\u001b[49m\u001b[43m,\u001b[49m\u001b[43m \u001b[49m\u001b[43mWeight_class\u001b[49m\u001b[43m,\u001b[49m\u001b[43m \u001b[49m\u001b[43mEvent_name\u001b[49m\u001b[43m)\u001b[49m\n\u001b[0;32m     10\u001b[0m Weight_class \u001b[38;5;241m=\u001b[39m \u001b[38;5;124m\"\u001b[39m\u001b[38;5;124mplant\u001b[39m\u001b[38;5;124m\"\u001b[39m\n\u001b[0;32m     11\u001b[0m File_name \u001b[38;5;241m=\u001b[39m \u001b[38;5;124m\"\u001b[39m\u001b[38;5;124mAntmageddon \u001b[39m\u001b[38;5;124m{{\u001b[39m\u001b[38;5;124mWeight_class}}s.json\u001b[39m\u001b[38;5;124m\"\u001b[39m\n",
      "File \u001b[1;32mc:\\git\\Robot-Combat-Trading-Cards\\svg_bots.py:101\u001b[0m, in \u001b[0;36muse_params\u001b[1;34m(fil, wei, eve)\u001b[0m\n\u001b[0;32m     99\u001b[0m weight_class \u001b[38;5;241m=\u001b[39m wei\n\u001b[0;32m    100\u001b[0m event_named \u001b[38;5;241m=\u001b[39m eve\n\u001b[1;32m--> 101\u001b[0m \u001b[43mgenerate_robot_pages\u001b[49m\u001b[43m(\u001b[49m\u001b[43mfile_named\u001b[49m\u001b[43m)\u001b[49m\n",
      "File \u001b[1;32mc:\\git\\Robot-Combat-Trading-Cards\\svg_bots.py:74\u001b[0m, in \u001b[0;36mgenerate_robot_pages\u001b[1;34m(json_file)\u001b[0m\n\u001b[0;32m     72\u001b[0m \u001b[38;5;28;01mdef\u001b[39;00m \u001b[38;5;21mgenerate_robot_pages\u001b[39m(json_file):\n\u001b[0;32m     73\u001b[0m \u001b[38;5;250m    \u001b[39m\u001b[38;5;124;03m\"\"\"Read JSON data and generate paginated SVG pages for robot cards.\"\"\"\u001b[39;00m\n\u001b[1;32m---> 74\u001b[0m     \u001b[38;5;28;01mwith\u001b[39;00m \u001b[38;5;28;43mopen\u001b[39;49m\u001b[43m(\u001b[49m\u001b[43mjson_file\u001b[49m\u001b[43m,\u001b[49m\u001b[43m \u001b[49m\u001b[38;5;124;43m'\u001b[39;49m\u001b[38;5;124;43mr\u001b[39;49m\u001b[38;5;124;43m'\u001b[39;49m\u001b[43m)\u001b[49m \u001b[38;5;28;01mas\u001b[39;00m f:\n\u001b[0;32m     75\u001b[0m         data \u001b[38;5;241m=\u001b[39m json\u001b[38;5;241m.\u001b[39mload(f)\n\u001b[0;32m     76\u001b[0m         robots \u001b[38;5;241m=\u001b[39m data\u001b[38;5;241m.\u001b[39mget(\u001b[38;5;124m\"\u001b[39m\u001b[38;5;124mrobots\u001b[39m\u001b[38;5;124m\"\u001b[39m, [])\n",
      "\u001b[1;31mFileNotFoundError\u001b[0m: [Errno 2] No such file or directory: 'Antmageddon {{Weight_class}}s.json'"
     ]
    }
   ],
   "source": [
    "# make svg from json\n",
    "import svg_bots\n",
    "\n",
    "Event_name = \"IRCL Antmageddon 2024\"\n",
    "Weight_class = \"ant\"\n",
    "File_name = f\"Antmageddon {Weight_class}s.json\"\n",
    "\n",
    "svg_bots.use_params(File_name, Weight_class, Event_name)\n",
    "\n",
    "Weight_class = \"plant\"\n",
    "File_name = f\"Antmageddon {Weight_class}s.json\"\n",
    "\n",
    "svg_bots.use_params(File_name, Weight_class, Event_name)\n",
    "\n",
    "print(f\"Generated All Cards for {Event_name}!!!\")"
   ]
  },
  {
   "cell_type": "code",
   "execution_count": null,
   "metadata": {},
   "outputs": [],
   "source": [
    "\n"
   ]
  }
 ],
 "metadata": {
  "kernelspec": {
   "display_name": "Python 3",
   "language": "python",
   "name": "python3"
  },
  "language_info": {
   "codemirror_mode": {
    "name": "ipython",
    "version": 3
   },
   "file_extension": ".py",
   "mimetype": "text/x-python",
   "name": "python",
   "nbconvert_exporter": "python",
   "pygments_lexer": "ipython3",
   "version": "3.10.11"
  }
 },
 "nbformat": 4,
 "nbformat_minor": 2
}
