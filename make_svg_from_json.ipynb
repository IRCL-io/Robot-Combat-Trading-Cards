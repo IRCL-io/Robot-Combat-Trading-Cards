{
 "cells": [
  {
   "cell_type": "markdown",
   "metadata": {},
   "source": [
    "# make svg from json"
   ]
  },
  {
   "cell_type": "code",
   "execution_count": 2,
   "metadata": {},
   "outputs": [
    {
     "name": "stdout",
     "output_type": "stream",
     "text": [
      "Generated ant_robot_page_1.svg\n",
      "Generated ant_robot_page_2.svg\n",
      "Generated ant_robot_page_3.svg\n",
      "Generated plant_robot_page_1.svg\n",
      "Generated plant_robot_page_2.svg\n",
      "Generated All Cards for IRCL Antmageddon 2024!!!\n"
     ]
    }
   ],
   "source": [
    "# make svg from json\n",
    "import svg_bots\n",
    "\n",
    "Event_name = \"IRCL Antmageddon 2024\"\n",
    "Weight_class = \"ant\"\n",
    "File_name = f\"Antmageddon {Weight_class}s.json\"\n",
    "\n",
    "svg_bots.use_params(File_name, Weight_class, Event_name)\n",
    "\n",
    "Weight_class = \"plant\"\n",
    "File_name = f\"Antmageddon {Weight_class}s.json\"\n",
    "\n",
    "svg_bots.use_params(File_name, Weight_class, Event_name)\n",
    "\n",
    "print(f\"Generated All Cards for {Event_name}!!!\")"
   ]
  }
 ],
 "metadata": {
  "kernelspec": {
   "display_name": "Python 3",
   "language": "python",
   "name": "python3"
  },
  "language_info": {
   "codemirror_mode": {
    "name": "ipython",
    "version": 3
   },
   "file_extension": ".py",
   "mimetype": "text/x-python",
   "name": "python",
   "nbconvert_exporter": "python",
   "pygments_lexer": "ipython3",
   "version": "3.10.11"
  }
 },
 "nbformat": 4,
 "nbformat_minor": 2
}
